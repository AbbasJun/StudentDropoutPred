{
  "cells": [
    {
      "cell_type": "code",
      "execution_count": null,
      "id": "25f43168-24d0-40a8-9109-f028555464be",
      "metadata": {
        "colab": {
          "base_uri": "https://localhost:8080/"
        },
        "id": "25f43168-24d0-40a8-9109-f028555464be",
        "outputId": "1feeb60b-4bd7-43b4-cd4a-bc2fdd16652e"
      },
      "outputs": [],
      "source": [
        "import pandas as pd\n",
        "\n",
        "# بارگیری دیتاست\n",
        "data = pd.read_csv('Dataset/train.csv')\n",
        "\n",
        "# مشاهده چند سطر اول دیتاست\n",
        "print(data.head())"
      ]
    },
    {
      "cell_type": "code",
      "execution_count": null,
      "id": "f59abfc8-68fb-47f2-9ced-f005ccdc9c95",
      "metadata": {
        "colab": {
          "base_uri": "https://localhost:8080/"
        },
        "id": "f59abfc8-68fb-47f2-9ced-f005ccdc9c95",
        "jupyter": {
          "source_hidden": true
        },
        "outputId": "cd439c33-9546-4e97-c4e3-6ee7c495f264"
      },
      "outputs": [],
      "source": [
        "from sklearn.preprocessing import LabelEncoder\n",
        "\n",
        "# تبدیل متغیر کیفی به کمی\n",
        "label_encoder = {}\n",
        "le = LabelEncoder()\n",
        "data['Target'] = le.fit_transform(data['Target'])\n",
        "label_encoder['Target'] = le\n",
        "\n",
        "# مشاهده دیتاست پس از تبدیل\n",
        "print(data.head())\n"
      ]
    },
    {
      "cell_type": "code",
      "execution_count": null,
      "id": "c754e9c7-4dc2-4fbb-958d-2a5f91153743",
      "metadata": {
        "id": "c754e9c7-4dc2-4fbb-958d-2a5f91153743"
      },
      "outputs": [],
      "source": [
        "from sklearn.model_selection import KFold\n",
        "\n",
        "# تعیین تعداد fold ها\n",
        "kf = KFold(n_splits=5, shuffle=True, random_state=42)"
      ]
    },
    {
      "cell_type": "code",
      "execution_count": null,
      "id": "8b4f1a4d-8fd9-4f6c-8220-8bed808cb397",
      "metadata": {
        "cellView": "form",
        "colab": {
          "base_uri": "https://localhost:8080/"
        },
        "id": "8b4f1a4d-8fd9-4f6c-8220-8bed808cb397",
        "outputId": "8f32c0cb-bf3d-4d53-ded8-0ee73324d1aa"
      },
      "outputs": [],
      "source": [
        "# @title\n",
        "# Import necessary libraries\n",
        "from keras.models import Sequential\n",
        "from keras.layers import Dense, Dropout\n",
        "from keras.regularizers import l2\n",
        "from sklearn.preprocessing import StandardScaler\n",
        "from sklearn.model_selection import KFold\n",
        "from sklearn.metrics import confusion_matrix, accuracy_score, recall_score, f1_score\n",
        "from sklearn.utils.class_weight import compute_class_weight\n",
        "import numpy as np\n",
        "\n",
        "# Scale the data\n",
        "scaler = StandardScaler()\n",
        "scaled_data = scaler.fit_transform(data.drop('Target', axis=1))\n",
        "\n",
        "# محسابه وزن کلاس ها\n",
        "class_weights = compute_class_weight('balanced', classes=np.unique(data['Target']), y=data['Target'])\n",
        "class_weights = {i: class_weights[i] for i in range(len(class_weights))}\n",
        "\n",
        "# ساخت مدل\n",
        "def build_ann(input_dim):\n",
        "    model = Sequential()\n",
        "    model.add(Dense(units=128, activation='relu', input_dim=input_dim, kernel_regularizer=l2(0.001)))  # First hidden layer with L2 regularization\n",
        "    model.add(Dropout(0.5))  # Dropout layer to prevent overfitting\n",
        "    model.add(Dense(units=64, activation='relu', kernel_regularizer=l2(0.001)))  # Second hidden layer with L2 regularization\n",
        "    model.add(Dropout(0.5))  # Dropout layer to prevent overfitting\n",
        "    model.add(Dense(units=3, activation='softmax'))  # Output layer for multiclass classification\n",
        "    model.compile(optimizer='adam', loss='sparse_categorical_crossentropy', metrics=['accuracy'])\n",
        "    return model\n",
        "\n",
        "# آموزش مدل و پیش بینی\n",
        "accuracy_scores = []\n",
        "recall_scores = []\n",
        "f1_scores = []\n",
        "\n",
        "for train_index, test_index in kf.split(scaled_data):\n",
        "    X_train, X_test = scaled_data[train_index], scaled_data[test_index]\n",
        "    y_train, y_test = data.iloc[train_index]['Target'], data.iloc[test_index]['Target']\n",
        "\n",
        "    ann = build_ann(input_dim=scaled_data.shape[1])\n",
        "    ann.fit(X_train, y_train, epochs=100, batch_size=32, verbose=0, class_weight=class_weights, validation_data=(X_test, y_test))\n",
        "\n",
        "    y_pred = np.argmax(ann.predict(X_test), axis=1)\n",
        "\n",
        "    # محاسبه معیارها\n",
        "    cm = confusion_matrix(y_test, y_pred)\n",
        "    accuracy = accuracy_score(y_test, y_pred)\n",
        "    recall = recall_score(y_test, y_pred, average='weighted')\n",
        "    f1 = f1_score(y_test, y_pred, average='weighted')\n",
        "\n",
        "    print(f'ANN - Confusion Matrix:\\n{cm}')\n",
        "    print(f'Accuracy: {accuracy}')\n",
        "    print(f'Recall: {recall}')\n",
        "    print(f'F1-Score: {f1}')\n",
        "    print(f'\\n')\n",
        "\n",
        "    accuracy_scores.append(accuracy)\n",
        "    recall_scores.append(recall)\n",
        "    f1_scores.append(f1)\n",
        "\n",
        "# چاپ متوسط معیارها\n",
        "print(f'\\n')\n",
        "print(f'Average Accuracy: {np.mean(accuracy_scores)}')\n",
        "print(f'Average Recall: {np.mean(recall_scores)}')\n",
        "print(f'Average F1-Score: {np.mean(f1_scores)}')\n"
      ]
    },
    {
      "cell_type": "code",
      "execution_count": null,
      "id": "ec228d9c-2be5-4b7d-8c3a-02735c32cec1",
      "metadata": {
        "cellView": "form",
        "colab": {
          "base_uri": "https://localhost:8080/"
        },
        "id": "ec228d9c-2be5-4b7d-8c3a-02735c32cec1",
        "outputId": "31a9205e-808c-4948-8b5b-f3e04381dbe7"
      },
      "outputs": [],
      "source": [
        "# @title\n",
        "from sklearn.svm import SVC\n",
        "\n",
        "# مقداردهی اولیه مدل\n",
        "svm = SVC(kernel='linear', random_state=42)\n",
        "\n",
        "# آموزش مدل و پیش‌بینی\n",
        "for train_index, test_index in kf.split(scaled_data):\n",
        "    X_train, X_test = scaled_data[train_index], scaled_data[test_index]\n",
        "    y_train, y_test = data.iloc[train_index]['Target'], data.iloc[test_index]['Target']\n",
        "\n",
        "    svm.fit(X_train, y_train)\n",
        "    y_pred = svm.predict(X_test)\n",
        "\n",
        "    # محاسبه معیارها\n",
        "    cm = confusion_matrix(y_test, y_pred)\n",
        "    accuracy = accuracy_score(y_test, y_pred)\n",
        "    recall = recall_score(y_test, y_pred, average='weighted')\n",
        "    f1 = f1_score(y_test, y_pred, average='weighted')\n",
        "\n",
        "    print(f'SVM - Confusion Matrix:\\n{cm}')\n",
        "    print(f'Accuracy: {accuracy}')\n",
        "    print(f'Recall: {recall}')\n",
        "    print(f'F1-Score: {f1}')\n",
        "    print(f'\\n')\n",
        "\n",
        "    accuracy_scores.append(accuracy)\n",
        "    recall_scores.append(recall)\n",
        "    f1_scores.append(f1)\n",
        "\n",
        "# چاپ متوسط معیارها\n",
        "print(f'\\n')\n",
        "print(f'Average Accuracy: {np.mean(accuracy_scores)}')\n",
        "print(f'Average Recall: {np.mean(recall_scores)}')\n",
        "print(f'Average F1-Score: {np.mean(f1_scores)}')\n"
      ]
    },
    {
      "cell_type": "code",
      "execution_count": null,
      "id": "31f55676-a623-4526-9b4f-6cd119e2724b",
      "metadata": {
        "cellView": "form",
        "colab": {
          "base_uri": "https://localhost:8080/"
        },
        "id": "31f55676-a623-4526-9b4f-6cd119e2724b",
        "outputId": "50fccee9-5a0a-49c2-d64f-34dda55e741a"
      },
      "outputs": [],
      "source": [
        "# @title\n",
        "from sklearn.neighbors import KNeighborsClassifier\n",
        "\n",
        "# مقداردهی اولیه مدل\n",
        "knn = KNeighborsClassifier(n_neighbors=5, metric='minkowski')\n",
        "\n",
        "# آموزش مدل و پیش‌بینی\n",
        "for train_index, test_index in kf.split(scaled_data):\n",
        "    X_train, X_test = scaled_data[train_index], scaled_data[test_index]\n",
        "    y_train, y_test = data.iloc[train_index]['Target'], data.iloc[test_index]['Target']\n",
        "\n",
        "    knn.fit(X_train, y_train)\n",
        "    y_pred = knn.predict(X_test)\n",
        "\n",
        "    # محاسبه معیارها\n",
        "    cm = confusion_matrix(y_test, y_pred)\n",
        "    accuracy = accuracy_score(y_test, y_pred)\n",
        "    recall = recall_score(y_test, y_pred, average='weighted')\n",
        "    f1 = f1_score(y_test, y_pred, average='weighted')\n",
        "\n",
        "    print(f'KNN - Confusion Matrix:\\n{cm}')\n",
        "    print(f'Accuracy: {accuracy}')\n",
        "    print(f'Recall: {recall}')\n",
        "    print(f'F1-Score: {f1}')\n",
        "    print(f'\\n')\n",
        "\n",
        "    accuracy_scores.append(accuracy)\n",
        "    recall_scores.append(recall)\n",
        "    f1_scores.append(f1)\n",
        "\n",
        "# چاپ متوسط معیارها\n",
        "print(f'\\n')\n",
        "print(f'Average Accuracy: {np.mean(accuracy_scores)}')\n",
        "print(f'Average Recall: {np.mean(recall_scores)}')\n",
        "print(f'Average F1-Score: {np.mean(f1_scores)}')\n",
        "\n"
      ]
    },
    {
      "cell_type": "code",
      "execution_count": null,
      "id": "e9672bf8-74d5-4fd4-b732-f76131119f50",
      "metadata": {
        "cellView": "form",
        "colab": {
          "base_uri": "https://localhost:8080/"
        },
        "id": "e9672bf8-74d5-4fd4-b732-f76131119f50",
        "outputId": "a508d75f-47e5-4ba7-8187-f0f072657f88"
      },
      "outputs": [],
      "source": [
        "# @title\n",
        "from sklearn.tree import DecisionTreeClassifier\n",
        "\n",
        "# مقداردهی اولیه مدل\n",
        "dt = DecisionTreeClassifier(random_state=42)\n",
        "\n",
        "# آموزش مدل و پیش‌بینی\n",
        "for train_index, test_index in kf.split(scaled_data):\n",
        "    X_train, X_test = scaled_data[train_index], scaled_data[test_index]\n",
        "    y_train, y_test = data.iloc[train_index]['Target'], data.iloc[test_index]['Target']\n",
        "\n",
        "    dt.fit(X_train, y_train)\n",
        "    y_pred = dt.predict(X_test)\n",
        "\n",
        "    # محاسبه معیارها\n",
        "    cm = confusion_matrix(y_test, y_pred)\n",
        "    accuracy = accuracy_score(y_test, y_pred)\n",
        "    recall = recall_score(y_test, y_pred, average='weighted')\n",
        "    f1 = f1_score(y_test, y_pred, average='weighted')\n",
        "\n",
        "    print(f'Decision Tree - Confusion Matrix:\\n{cm}')\n",
        "    print(f'Accuracy: {accuracy}')\n",
        "    print(f'Recall: {recall}')\n",
        "    print(f'F1-Score: {f1}')\n",
        "    print(f'\\n')\n",
        "\n",
        "    accuracy_scores.append(accuracy)\n",
        "    recall_scores.append(recall)\n",
        "    f1_scores.append(f1)\n",
        "\n",
        "# چاپ متوسط معیارها\n",
        "print(f'\\n')\n",
        "print(f'Average Accuracy: {np.mean(accuracy_scores)}')\n",
        "print(f'Average Recall: {np.mean(recall_scores)}')\n",
        "print(f'Average F1-Score: {np.mean(f1_scores)}')\n",
        "\n"
      ]
    },
    {
      "cell_type": "code",
      "execution_count": null,
      "id": "802629c6-ae0e-4431-acae-16dc22ff799a",
      "metadata": {
        "cellView": "form",
        "colab": {
          "base_uri": "https://localhost:8080/"
        },
        "id": "802629c6-ae0e-4431-acae-16dc22ff799a",
        "outputId": "a6b7f7c4-bad4-4dab-a924-4d82db22b18d"
      },
      "outputs": [],
      "source": [
        "# @title\n",
        "from sklearn.preprocessing import StandardScaler\n",
        "from sklearn.model_selection import KFold\n",
        "from sklearn.linear_model import LogisticRegression\n",
        "from sklearn.metrics import confusion_matrix, accuracy_score, recall_score, f1_score\n",
        "\n",
        "# مقیاس‌بندی داده‌ها\n",
        "scaler = StandardScaler()\n",
        "scaled_data = scaler.fit_transform(data.drop('Target', axis=1))\n",
        "\n",
        "# تعداد fold ها\n",
        "kf = KFold(n_splits=5, shuffle=True, random_state=42)\n",
        "\n",
        "# مقداردهی اولیه مدل\n",
        "lr = LogisticRegression(solver='lbfgs', max_iter=1000, random_state=42)\n",
        "\n",
        "# آموزش مدل و پیش‌بینی\n",
        "for train_index, test_index in kf.split(scaled_data):\n",
        "    X_train, X_test = scaled_data[train_index], scaled_data[test_index]\n",
        "    y_train, y_test = data.iloc[train_index]['Target'], data.iloc[test_index]['Target']\n",
        "\n",
        "    lr.fit(X_train, y_train)\n",
        "    y_pred = lr.predict(X_test)\n",
        "\n",
        "    # محاسبه معیارها\n",
        "    cm = confusion_matrix(y_test, y_pred)\n",
        "    accuracy = accuracy_score(y_test, y_pred)\n",
        "    recall = recall_score(y_test, y_pred, average='weighted')\n",
        "    f1 = f1_score(y_test, y_pred, average='weighted')\n",
        "\n",
        "    print(f'Logistic Regression - Confusion Matrix:\\n{cm}')\n",
        "    print(f'Accuracy: {accuracy}')\n",
        "    print(f'Recall: {recall}')\n",
        "    print(f'F1-Score: {f1}')\n",
        "    print(f'\\n')\n",
        "\n",
        "    accuracy_scores.append(accuracy)\n",
        "    recall_scores.append(recall)\n",
        "    f1_scores.append(f1)\n",
        "\n",
        "# چاپ متوسط معیارها\n",
        "print(f'\\n')\n",
        "print(f'Average Accuracy: {np.mean(accuracy_scores)}')\n",
        "print(f'Average Recall: {np.mean(recall_scores)}')\n",
        "print(f'Average F1-Score: {np.mean(f1_scores)}')\n"
      ]
    }
  ],
  "metadata": {
    "colab": {
      "provenance": []
    },
    "kernelspec": {
      "display_name": "Python 3 (ipykernel)",
      "language": "python",
      "name": "python3"
    },
    "language_info": {
      "codemirror_mode": {
        "name": "ipython",
        "version": 3
      },
      "file_extension": ".py",
      "mimetype": "text/x-python",
      "name": "python",
      "nbconvert_exporter": "python",
      "pygments_lexer": "ipython3",
      "version": "3.12.1"
    }
  },
  "nbformat": 4,
  "nbformat_minor": 5
}
